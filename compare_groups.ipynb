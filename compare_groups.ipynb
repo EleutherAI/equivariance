{
  "nbformat": 4,
  "nbformat_minor": 0,
  "metadata": {
    "colab": {
      "name": "compare_groups.ipynb",
      "provenance": [],
      "authorship_tag": "ABX9TyNtApxaHpr98TOyhVJMRsQ4",
      "include_colab_link": true
    },
    "kernelspec": {
      "name": "python3",
      "display_name": "Python 3"
    },
    "language_info": {
      "name": "python"
    }
  },
  "cells": [
    {
      "cell_type": "markdown",
      "metadata": {
        "id": "view-in-github",
        "colab_type": "text"
      },
      "source": [
        "<a href=\"https://colab.research.google.com/github/StellaAthena/equivariance/blob/EMLP/compare_groups.ipynb\" target=\"_parent\"><img src=\"https://colab.research.google.com/assets/colab-badge.svg\" alt=\"Open In Colab\"/></a>"
      ]
    },
    {
      "cell_type": "code",
      "metadata": {
        "id": "TD4pgV9_rrsm"
      },
      "source": [
        "%pip --quiet install git+https://github.com/mfinzi/equivariant-MLP.git\n",
        "\n",
        "!git clone https://github.com/EleutherAI/equivariance.git\n",
        "%cd equivariance\n",
        "!git checkout EMLP"
      ],
      "execution_count": null,
      "outputs": []
    },
    {
      "cell_type": "code",
      "metadata": {
        "id": "HAYTrkMErxGW"
      },
      "source": [
        "from compare_groups import compare_groups\n",
        "from emlp.groups import *\n",
        "from emlp.datasets import *"
      ],
      "execution_count": null,
      "outputs": []
    },
    {
      "cell_type": "code",
      "metadata": {
        "id": "6s_5u2jprzcN"
      },
      "source": [
        "grps = {'SO(3)': SO(3), 'O(3)': O(3), 'D_8': DkeR3}\n",
        "compare_groups(grps)"
      ],
      "execution_count": null,
      "outputs": []
    }
  ]
}